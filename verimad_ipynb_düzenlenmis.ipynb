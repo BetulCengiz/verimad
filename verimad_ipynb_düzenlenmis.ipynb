{
  "nbformat": 4,
  "nbformat_minor": 0,
  "metadata": {
    "colab": {
      "provenance": [],
      "authorship_tag": "ABX9TyO5Z1Tg1nQh3ErXNaXN5+am",
      "include_colab_link": true
    },
    "kernelspec": {
      "name": "python3",
      "display_name": "Python 3"
    },
    "language_info": {
      "name": "python"
    }
  },
  "cells": [
    {
      "cell_type": "markdown",
      "metadata": {
        "id": "view-in-github",
        "colab_type": "text"
      },
      "source": [
        "<a href=\"https://colab.research.google.com/github/BetulCengiz/verimad/blob/main/verimad_ipynb_d%C3%BCzenlenmis.ipynb\" target=\"_parent\"><img src=\"https://colab.research.google.com/assets/colab-badge.svg\" alt=\"Open In Colab\"/></a>"
      ]
    },
    {
      "cell_type": "code",
      "execution_count": 5,
      "metadata": {
        "colab": {
          "base_uri": "https://localhost:8080/"
        },
        "id": "XMJPJpcsa6tH",
        "outputId": "2ca85b39-e1c0-45b2-8e53-3a3ce7659339"
      },
      "outputs": [
        {
          "output_type": "stream",
          "name": "stdout",
          "text": [
            "      ID  Yaş Cinsiyet Ağrı Yeme Bozukluğu Bulantı ağrı_2 ateş ateş(1)  \\\n",
            "0      1    7        E  var            yok     yok    var  yok    36.5   \n",
            "1      2    7        E  var            yok     yok    var  yok    36.6   \n",
            "2      3   13        K  var            var     var    yok  yok    36.6   \n",
            "3      4    6        E  var            yok     yok    var  yok    36.7   \n",
            "4      5   14        E  var            var     var    var  yok    36.6   \n",
            "..   ...  ...      ...  ...            ...     ...    ...  ...     ...   \n",
            "838  846   14        K  var            yok     yok    yok  yok   36.58   \n",
            "839  847   10        K  yok            var     var    yok  yok   36.58   \n",
            "840  848    7        K  yok            var     var    yok  yok   36.58   \n",
            "841  849   12        E  yok            var     var    yok  yok   36.58   \n",
            "842  850   15        E  var            var     var    yok  yok   36.58   \n",
            "\n",
            "    sıçrama Lökosit örneği kayma  skor  Lökositoz   Nötrofil  Lenfosit    N/L  \\\n",
            "0       yok            var   var     6       12.10      76.6      15.0   5.11   \n",
            "1       yok            var   yok     5       16.60      55.6      31.6   1.76   \n",
            "2       yok            yok   yok     3        9.60      68.0      16.0   4.25   \n",
            "3       yok            var   yok     3       10.80      39.5      44.4   0.89   \n",
            "4       yok            yok   yok     5        4.90      62.3      18.2   3.42   \n",
            "..      ...            ...   ...   ...         ...       ...       ...    ...   \n",
            "838     var            var   var     5       14.89      91.1       6.6  13.80   \n",
            "839     yok            var   var     5       16.44      92.7       3.5  26.49   \n",
            "840     yok            var   var     5       20.70      88.1       6.3  13.98   \n",
            "841     yok            var   var     5       13.11      86.1       8.8   9.78   \n",
            "842     yok            var   yok     5       15.71      73.2      20.4   3.59   \n",
            "\n",
            "      CRP   Procalcitonin   Teşhis  \n",
            "0     4.80          2.187  Negatif  \n",
            "1     0.01          2.187  Negatif  \n",
            "2     0.20          2.187  Negatif  \n",
            "3     0.40          2.187  Negatif  \n",
            "4     5.70          2.187  Negatif  \n",
            "..     ...            ...      ...  \n",
            "838   0.37          0.050  Pozitif  \n",
            "839   6.00          0.080  Pozitif  \n",
            "840  21.69          0.230  Pozitif  \n",
            "841  65.66          0.870  Pozitif  \n",
            "842  91.00          0.140  Pozitif  \n",
            "\n",
            "[843 rows x 20 columns]\n"
          ]
        }
      ],
      "source": [
        "import pandas as pd\n",
        "\n",
        "# Excel dosyasını oku\n",
        "dosya_adı = \"Veri_Kümesi.xlsx\"\n",
        "veriler = pd.read_excel(dosya_adı)\n",
        "\n",
        "# Verileri görüntüle\n",
        "print(veriler)"
      ]
    },
    {
      "cell_type": "code",
      "source": [
        "# Veri kümesinin temel istatistiklerini incele\n",
        "#istatistikler = veriler.describe()\n",
        "#print(istatistikler)\n",
        "\n",
        "\n",
        "# Sayısal olmayan sütunları belirleme\n",
        "sayısal_olmayan_sutunlar = veriler.select_dtypes(exclude=['number']).columns\n",
        "\n",
        "# Sayısal olmayan sütunları sayısal formata dönüştürme\n",
        "veriler[sayısal_olmayan_sutunlar] = veriler[sayısal_olmayan_sutunlar].astype('category')\n",
        "\n",
        "# Tüm sütunları describe etme\n",
        "describe_veriler = veriler.describe(include='all')\n",
        "print(describe_veriler)"
      ],
      "metadata": {
        "colab": {
          "base_uri": "https://localhost:8080/"
        },
        "id": "2v2mDe5ggI52",
        "outputId": "5386fb94-7702-4442-c8f1-ce5c8e55c06e"
      },
      "execution_count": 8,
      "outputs": [
        {
          "output_type": "stream",
          "name": "stdout",
          "text": [
            "                ID         Yaş Cinsiyet Ağrı Yeme Bozukluğu Bulantı ağrı_2  \\\n",
            "count   843.000000  843.000000      843  843            843     843    843   \n",
            "unique         NaN         NaN        2    2              2       2      2   \n",
            "top            NaN         NaN        K  yok            yok     yok    var   \n",
            "freq           NaN         NaN      429  460            434     448    591   \n",
            "mean    425.161329   10.396204      NaN  NaN            NaN     NaN    NaN   \n",
            "std     246.487987    3.813600      NaN  NaN            NaN     NaN    NaN   \n",
            "min       1.000000    5.000000      NaN  NaN            NaN     NaN    NaN   \n",
            "25%     211.500000    7.000000      NaN  NaN            NaN     NaN    NaN   \n",
            "50%     422.000000   10.000000      NaN  NaN            NaN     NaN    NaN   \n",
            "75%     639.500000   14.000000      NaN  NaN            NaN     NaN    NaN   \n",
            "max     850.000000   18.000000      NaN  NaN            NaN     NaN    NaN   \n",
            "\n",
            "       ateş  ateş(1) sıçrama Lökosit örneği kayma        skor   Lökositoz   \\\n",
            "count   843   843.00     843            843   843  843.000000   843.000000   \n",
            "unique    2    33.00       2              2     2         NaN          NaN   \n",
            "top     yok    36.48     yok            var   yok         NaN          NaN   \n",
            "freq    802   180.00     784            429   505         NaN          NaN   \n",
            "mean    NaN      NaN     NaN            NaN   NaN    4.341637    13.393227   \n",
            "std     NaN      NaN     NaN            NaN   NaN    1.963324    53.626599   \n",
            "min     NaN      NaN     NaN            NaN   NaN    0.000000     3.300000   \n",
            "25%     NaN      NaN     NaN            NaN   NaN    3.000000     8.145000   \n",
            "50%     NaN      NaN     NaN            NaN   NaN    4.000000    10.500000   \n",
            "75%     NaN      NaN     NaN            NaN   NaN    6.000000    14.100000   \n",
            "max     NaN      NaN     NaN            NaN   NaN    9.000000  1560.000000   \n",
            "\n",
            "          Nötrofil    Lenfosit         N/L        CRP   Procalcitonin   Teşhis  \n",
            "count   843.000000  843.000000  843.000000  843.000000     843.000000      843  \n",
            "unique         NaN         NaN         NaN         NaN            NaN        2  \n",
            "top            NaN         NaN         NaN         NaN            NaN  Negatif  \n",
            "freq           NaN         NaN         NaN         NaN            NaN      756  \n",
            "mean     68.677556   23.320498    5.317935    2.606359       2.042571      NaN  \n",
            "std      26.288379   13.670248    5.763277    6.074061      16.661190      NaN  \n",
            "min       2.650000    1.030000    0.000000    0.000000       0.020000      NaN  \n",
            "25%      55.650000   11.550000    1.650000    0.235000       0.250000      NaN  \n",
            "50%      69.400000   21.400000    3.230000    1.700000       0.350000      NaN  \n",
            "75%      81.200000   33.400000    6.740000    1.903800       2.187000      NaN  \n",
            "max     681.000000   82.900000   47.200000   91.000000     288.000000      NaN  \n"
          ]
        }
      ]
    },
    {
      "cell_type": "code",
      "source": [
        "# Veri kümesinin yapısını incele\n",
        "veri_yapisi = veriler.info()\n",
        "print(veri_yapisi)\n"
      ],
      "metadata": {
        "colab": {
          "base_uri": "https://localhost:8080/"
        },
        "id": "OUYIvPHDgimK",
        "outputId": "b9c35825-a1b9-4d41-8699-55a1cbcdc81a"
      },
      "execution_count": 9,
      "outputs": [
        {
          "output_type": "stream",
          "name": "stdout",
          "text": [
            "<class 'pandas.core.frame.DataFrame'>\n",
            "RangeIndex: 843 entries, 0 to 842\n",
            "Data columns (total 20 columns):\n",
            " #   Column          Non-Null Count  Dtype   \n",
            "---  ------          --------------  -----   \n",
            " 0   ID              843 non-null    int64   \n",
            " 1   Yaş             843 non-null    int64   \n",
            " 2   Cinsiyet        843 non-null    category\n",
            " 3   Ağrı            843 non-null    category\n",
            " 4   Yeme Bozukluğu  843 non-null    category\n",
            " 5   Bulantı         843 non-null    category\n",
            " 6   ağrı_2          843 non-null    category\n",
            " 7   ateş            843 non-null    category\n",
            " 8   ateş(1)         843 non-null    category\n",
            " 9   sıçrama         843 non-null    category\n",
            " 10  Lökosit örneği  843 non-null    category\n",
            " 11  kayma           843 non-null    category\n",
            " 12  skor            843 non-null    int64   \n",
            " 13  Lökositoz       843 non-null    float64 \n",
            " 14  Nötrofil        843 non-null    float64 \n",
            " 15  Lenfosit        843 non-null    float64 \n",
            " 16  N/L             843 non-null    float64 \n",
            " 17  CRP             843 non-null    float64 \n",
            " 18  Procalcitonin   843 non-null    float64 \n",
            " 19  Teşhis          843 non-null    category\n",
            "dtypes: category(11), float64(6), int64(3)\n",
            "memory usage: 71.0 KB\n",
            "None\n"
          ]
        }
      ]
    },
    {
      "cell_type": "code",
      "source": [
        "veriler.corr()"
      ],
      "metadata": {
        "colab": {
          "base_uri": "https://localhost:8080/",
          "height": 387
        },
        "id": "-CVzm_GVHq_a",
        "outputId": "97286dfb-1532-46aa-e861-b5cfcd359aba"
      },
      "execution_count": 10,
      "outputs": [
        {
          "output_type": "stream",
          "name": "stderr",
          "text": [
            "<ipython-input-10-d4963eea9ff5>:1: FutureWarning: The default value of numeric_only in DataFrame.corr is deprecated. In a future version, it will default to False. Select only valid columns or specify the value of numeric_only to silence this warning.\n",
            "  veriler.corr()\n"
          ]
        },
        {
          "output_type": "execute_result",
          "data": {
            "text/plain": [
              "                     ID       Yaş      skor  Lökositoz   Nötrofil  Lenfosit  \\\n",
              "ID             1.000000  0.006430 -0.111579   -0.042623  0.036629 -0.014928   \n",
              "Yaş            0.006430  1.000000 -0.146424   -0.031137  0.000304  0.079374   \n",
              "skor          -0.111579 -0.146424  1.000000    0.090368  0.327915 -0.477404   \n",
              "Lökositoz     -0.042623 -0.031137  0.090368    1.000000  0.046174 -0.075554   \n",
              "Nötrofil       0.036629  0.000304  0.327915    0.046174  1.000000 -0.553059   \n",
              "Lenfosit      -0.014928  0.079374 -0.477404   -0.075554 -0.553059  1.000000   \n",
              "N/L            0.068325 -0.118095  0.416715    0.056972  0.437626 -0.714952   \n",
              "CRP            0.056305  0.020253  0.074454    0.007525  0.108075 -0.186317   \n",
              "Procalcitonin -0.009704  0.026098 -0.001292   -0.001556 -0.028145  0.056089   \n",
              "\n",
              "                    N/L      CRP   Procalcitonin  \n",
              "ID             0.068325  0.056305      -0.009704  \n",
              "Yaş           -0.118095  0.020253       0.026098  \n",
              "skor           0.416715  0.074454      -0.001292  \n",
              "Lökositoz      0.056972  0.007525      -0.001556  \n",
              "Nötrofil       0.437626  0.108075      -0.028145  \n",
              "Lenfosit      -0.714952 -0.186317       0.056089  \n",
              "N/L            1.000000  0.152881      -0.036157  \n",
              "CRP            0.152881  1.000000       0.000243  \n",
              "Procalcitonin -0.036157  0.000243       1.000000  "
            ],
            "text/html": [
              "\n",
              "  <div id=\"df-1e66c01a-74b1-4b48-a1d0-375dcc40afed\" class=\"colab-df-container\">\n",
              "    <div>\n",
              "<style scoped>\n",
              "    .dataframe tbody tr th:only-of-type {\n",
              "        vertical-align: middle;\n",
              "    }\n",
              "\n",
              "    .dataframe tbody tr th {\n",
              "        vertical-align: top;\n",
              "    }\n",
              "\n",
              "    .dataframe thead th {\n",
              "        text-align: right;\n",
              "    }\n",
              "</style>\n",
              "<table border=\"1\" class=\"dataframe\">\n",
              "  <thead>\n",
              "    <tr style=\"text-align: right;\">\n",
              "      <th></th>\n",
              "      <th>ID</th>\n",
              "      <th>Yaş</th>\n",
              "      <th>skor</th>\n",
              "      <th>Lökositoz</th>\n",
              "      <th>Nötrofil</th>\n",
              "      <th>Lenfosit</th>\n",
              "      <th>N/L</th>\n",
              "      <th>CRP</th>\n",
              "      <th>Procalcitonin</th>\n",
              "    </tr>\n",
              "  </thead>\n",
              "  <tbody>\n",
              "    <tr>\n",
              "      <th>ID</th>\n",
              "      <td>1.000000</td>\n",
              "      <td>0.006430</td>\n",
              "      <td>-0.111579</td>\n",
              "      <td>-0.042623</td>\n",
              "      <td>0.036629</td>\n",
              "      <td>-0.014928</td>\n",
              "      <td>0.068325</td>\n",
              "      <td>0.056305</td>\n",
              "      <td>-0.009704</td>\n",
              "    </tr>\n",
              "    <tr>\n",
              "      <th>Yaş</th>\n",
              "      <td>0.006430</td>\n",
              "      <td>1.000000</td>\n",
              "      <td>-0.146424</td>\n",
              "      <td>-0.031137</td>\n",
              "      <td>0.000304</td>\n",
              "      <td>0.079374</td>\n",
              "      <td>-0.118095</td>\n",
              "      <td>0.020253</td>\n",
              "      <td>0.026098</td>\n",
              "    </tr>\n",
              "    <tr>\n",
              "      <th>skor</th>\n",
              "      <td>-0.111579</td>\n",
              "      <td>-0.146424</td>\n",
              "      <td>1.000000</td>\n",
              "      <td>0.090368</td>\n",
              "      <td>0.327915</td>\n",
              "      <td>-0.477404</td>\n",
              "      <td>0.416715</td>\n",
              "      <td>0.074454</td>\n",
              "      <td>-0.001292</td>\n",
              "    </tr>\n",
              "    <tr>\n",
              "      <th>Lökositoz</th>\n",
              "      <td>-0.042623</td>\n",
              "      <td>-0.031137</td>\n",
              "      <td>0.090368</td>\n",
              "      <td>1.000000</td>\n",
              "      <td>0.046174</td>\n",
              "      <td>-0.075554</td>\n",
              "      <td>0.056972</td>\n",
              "      <td>0.007525</td>\n",
              "      <td>-0.001556</td>\n",
              "    </tr>\n",
              "    <tr>\n",
              "      <th>Nötrofil</th>\n",
              "      <td>0.036629</td>\n",
              "      <td>0.000304</td>\n",
              "      <td>0.327915</td>\n",
              "      <td>0.046174</td>\n",
              "      <td>1.000000</td>\n",
              "      <td>-0.553059</td>\n",
              "      <td>0.437626</td>\n",
              "      <td>0.108075</td>\n",
              "      <td>-0.028145</td>\n",
              "    </tr>\n",
              "    <tr>\n",
              "      <th>Lenfosit</th>\n",
              "      <td>-0.014928</td>\n",
              "      <td>0.079374</td>\n",
              "      <td>-0.477404</td>\n",
              "      <td>-0.075554</td>\n",
              "      <td>-0.553059</td>\n",
              "      <td>1.000000</td>\n",
              "      <td>-0.714952</td>\n",
              "      <td>-0.186317</td>\n",
              "      <td>0.056089</td>\n",
              "    </tr>\n",
              "    <tr>\n",
              "      <th>N/L</th>\n",
              "      <td>0.068325</td>\n",
              "      <td>-0.118095</td>\n",
              "      <td>0.416715</td>\n",
              "      <td>0.056972</td>\n",
              "      <td>0.437626</td>\n",
              "      <td>-0.714952</td>\n",
              "      <td>1.000000</td>\n",
              "      <td>0.152881</td>\n",
              "      <td>-0.036157</td>\n",
              "    </tr>\n",
              "    <tr>\n",
              "      <th>CRP</th>\n",
              "      <td>0.056305</td>\n",
              "      <td>0.020253</td>\n",
              "      <td>0.074454</td>\n",
              "      <td>0.007525</td>\n",
              "      <td>0.108075</td>\n",
              "      <td>-0.186317</td>\n",
              "      <td>0.152881</td>\n",
              "      <td>1.000000</td>\n",
              "      <td>0.000243</td>\n",
              "    </tr>\n",
              "    <tr>\n",
              "      <th>Procalcitonin</th>\n",
              "      <td>-0.009704</td>\n",
              "      <td>0.026098</td>\n",
              "      <td>-0.001292</td>\n",
              "      <td>-0.001556</td>\n",
              "      <td>-0.028145</td>\n",
              "      <td>0.056089</td>\n",
              "      <td>-0.036157</td>\n",
              "      <td>0.000243</td>\n",
              "      <td>1.000000</td>\n",
              "    </tr>\n",
              "  </tbody>\n",
              "</table>\n",
              "</div>\n",
              "    <div class=\"colab-df-buttons\">\n",
              "\n",
              "  <div class=\"colab-df-container\">\n",
              "    <button class=\"colab-df-convert\" onclick=\"convertToInteractive('df-1e66c01a-74b1-4b48-a1d0-375dcc40afed')\"\n",
              "            title=\"Convert this dataframe to an interactive table.\"\n",
              "            style=\"display:none;\">\n",
              "\n",
              "  <svg xmlns=\"http://www.w3.org/2000/svg\" height=\"24px\" viewBox=\"0 -960 960 960\">\n",
              "    <path d=\"M120-120v-720h720v720H120Zm60-500h600v-160H180v160Zm220 220h160v-160H400v160Zm0 220h160v-160H400v160ZM180-400h160v-160H180v160Zm440 0h160v-160H620v160ZM180-180h160v-160H180v160Zm440 0h160v-160H620v160Z\"/>\n",
              "  </svg>\n",
              "    </button>\n",
              "\n",
              "  <style>\n",
              "    .colab-df-container {\n",
              "      display:flex;\n",
              "      gap: 12px;\n",
              "    }\n",
              "\n",
              "    .colab-df-convert {\n",
              "      background-color: #E8F0FE;\n",
              "      border: none;\n",
              "      border-radius: 50%;\n",
              "      cursor: pointer;\n",
              "      display: none;\n",
              "      fill: #1967D2;\n",
              "      height: 32px;\n",
              "      padding: 0 0 0 0;\n",
              "      width: 32px;\n",
              "    }\n",
              "\n",
              "    .colab-df-convert:hover {\n",
              "      background-color: #E2EBFA;\n",
              "      box-shadow: 0px 1px 2px rgba(60, 64, 67, 0.3), 0px 1px 3px 1px rgba(60, 64, 67, 0.15);\n",
              "      fill: #174EA6;\n",
              "    }\n",
              "\n",
              "    .colab-df-buttons div {\n",
              "      margin-bottom: 4px;\n",
              "    }\n",
              "\n",
              "    [theme=dark] .colab-df-convert {\n",
              "      background-color: #3B4455;\n",
              "      fill: #D2E3FC;\n",
              "    }\n",
              "\n",
              "    [theme=dark] .colab-df-convert:hover {\n",
              "      background-color: #434B5C;\n",
              "      box-shadow: 0px 1px 3px 1px rgba(0, 0, 0, 0.15);\n",
              "      filter: drop-shadow(0px 1px 2px rgba(0, 0, 0, 0.3));\n",
              "      fill: #FFFFFF;\n",
              "    }\n",
              "  </style>\n",
              "\n",
              "    <script>\n",
              "      const buttonEl =\n",
              "        document.querySelector('#df-1e66c01a-74b1-4b48-a1d0-375dcc40afed button.colab-df-convert');\n",
              "      buttonEl.style.display =\n",
              "        google.colab.kernel.accessAllowed ? 'block' : 'none';\n",
              "\n",
              "      async function convertToInteractive(key) {\n",
              "        const element = document.querySelector('#df-1e66c01a-74b1-4b48-a1d0-375dcc40afed');\n",
              "        const dataTable =\n",
              "          await google.colab.kernel.invokeFunction('convertToInteractive',\n",
              "                                                    [key], {});\n",
              "        if (!dataTable) return;\n",
              "\n",
              "        const docLinkHtml = 'Like what you see? Visit the ' +\n",
              "          '<a target=\"_blank\" href=https://colab.research.google.com/notebooks/data_table.ipynb>data table notebook</a>'\n",
              "          + ' to learn more about interactive tables.';\n",
              "        element.innerHTML = '';\n",
              "        dataTable['output_type'] = 'display_data';\n",
              "        await google.colab.output.renderOutput(dataTable, element);\n",
              "        const docLink = document.createElement('div');\n",
              "        docLink.innerHTML = docLinkHtml;\n",
              "        element.appendChild(docLink);\n",
              "      }\n",
              "    </script>\n",
              "  </div>\n",
              "\n",
              "\n",
              "<div id=\"df-afb58947-176d-44f1-927e-b79b22bc8054\">\n",
              "  <button class=\"colab-df-quickchart\" onclick=\"quickchart('df-afb58947-176d-44f1-927e-b79b22bc8054')\"\n",
              "            title=\"Suggest charts\"\n",
              "            style=\"display:none;\">\n",
              "\n",
              "<svg xmlns=\"http://www.w3.org/2000/svg\" height=\"24px\"viewBox=\"0 0 24 24\"\n",
              "     width=\"24px\">\n",
              "    <g>\n",
              "        <path d=\"M19 3H5c-1.1 0-2 .9-2 2v14c0 1.1.9 2 2 2h14c1.1 0 2-.9 2-2V5c0-1.1-.9-2-2-2zM9 17H7v-7h2v7zm4 0h-2V7h2v10zm4 0h-2v-4h2v4z\"/>\n",
              "    </g>\n",
              "</svg>\n",
              "  </button>\n",
              "\n",
              "<style>\n",
              "  .colab-df-quickchart {\n",
              "      --bg-color: #E8F0FE;\n",
              "      --fill-color: #1967D2;\n",
              "      --hover-bg-color: #E2EBFA;\n",
              "      --hover-fill-color: #174EA6;\n",
              "      --disabled-fill-color: #AAA;\n",
              "      --disabled-bg-color: #DDD;\n",
              "  }\n",
              "\n",
              "  [theme=dark] .colab-df-quickchart {\n",
              "      --bg-color: #3B4455;\n",
              "      --fill-color: #D2E3FC;\n",
              "      --hover-bg-color: #434B5C;\n",
              "      --hover-fill-color: #FFFFFF;\n",
              "      --disabled-bg-color: #3B4455;\n",
              "      --disabled-fill-color: #666;\n",
              "  }\n",
              "\n",
              "  .colab-df-quickchart {\n",
              "    background-color: var(--bg-color);\n",
              "    border: none;\n",
              "    border-radius: 50%;\n",
              "    cursor: pointer;\n",
              "    display: none;\n",
              "    fill: var(--fill-color);\n",
              "    height: 32px;\n",
              "    padding: 0;\n",
              "    width: 32px;\n",
              "  }\n",
              "\n",
              "  .colab-df-quickchart:hover {\n",
              "    background-color: var(--hover-bg-color);\n",
              "    box-shadow: 0 1px 2px rgba(60, 64, 67, 0.3), 0 1px 3px 1px rgba(60, 64, 67, 0.15);\n",
              "    fill: var(--button-hover-fill-color);\n",
              "  }\n",
              "\n",
              "  .colab-df-quickchart-complete:disabled,\n",
              "  .colab-df-quickchart-complete:disabled:hover {\n",
              "    background-color: var(--disabled-bg-color);\n",
              "    fill: var(--disabled-fill-color);\n",
              "    box-shadow: none;\n",
              "  }\n",
              "\n",
              "  .colab-df-spinner {\n",
              "    border: 2px solid var(--fill-color);\n",
              "    border-color: transparent;\n",
              "    border-bottom-color: var(--fill-color);\n",
              "    animation:\n",
              "      spin 1s steps(1) infinite;\n",
              "  }\n",
              "\n",
              "  @keyframes spin {\n",
              "    0% {\n",
              "      border-color: transparent;\n",
              "      border-bottom-color: var(--fill-color);\n",
              "      border-left-color: var(--fill-color);\n",
              "    }\n",
              "    20% {\n",
              "      border-color: transparent;\n",
              "      border-left-color: var(--fill-color);\n",
              "      border-top-color: var(--fill-color);\n",
              "    }\n",
              "    30% {\n",
              "      border-color: transparent;\n",
              "      border-left-color: var(--fill-color);\n",
              "      border-top-color: var(--fill-color);\n",
              "      border-right-color: var(--fill-color);\n",
              "    }\n",
              "    40% {\n",
              "      border-color: transparent;\n",
              "      border-right-color: var(--fill-color);\n",
              "      border-top-color: var(--fill-color);\n",
              "    }\n",
              "    60% {\n",
              "      border-color: transparent;\n",
              "      border-right-color: var(--fill-color);\n",
              "    }\n",
              "    80% {\n",
              "      border-color: transparent;\n",
              "      border-right-color: var(--fill-color);\n",
              "      border-bottom-color: var(--fill-color);\n",
              "    }\n",
              "    90% {\n",
              "      border-color: transparent;\n",
              "      border-bottom-color: var(--fill-color);\n",
              "    }\n",
              "  }\n",
              "</style>\n",
              "\n",
              "  <script>\n",
              "    async function quickchart(key) {\n",
              "      const quickchartButtonEl =\n",
              "        document.querySelector('#' + key + ' button');\n",
              "      quickchartButtonEl.disabled = true;  // To prevent multiple clicks.\n",
              "      quickchartButtonEl.classList.add('colab-df-spinner');\n",
              "      try {\n",
              "        const charts = await google.colab.kernel.invokeFunction(\n",
              "            'suggestCharts', [key], {});\n",
              "      } catch (error) {\n",
              "        console.error('Error during call to suggestCharts:', error);\n",
              "      }\n",
              "      quickchartButtonEl.classList.remove('colab-df-spinner');\n",
              "      quickchartButtonEl.classList.add('colab-df-quickchart-complete');\n",
              "    }\n",
              "    (() => {\n",
              "      let quickchartButtonEl =\n",
              "        document.querySelector('#df-afb58947-176d-44f1-927e-b79b22bc8054 button');\n",
              "      quickchartButtonEl.style.display =\n",
              "        google.colab.kernel.accessAllowed ? 'block' : 'none';\n",
              "    })();\n",
              "  </script>\n",
              "</div>\n",
              "    </div>\n",
              "  </div>\n"
            ]
          },
          "metadata": {},
          "execution_count": 10
        }
      ]
    },
    {
      "cell_type": "code",
      "source": [
        "# Sınıf bilgisinin dağılımını incele\n",
        "sinif_dagilimi = veriler['Teşhis'].value_counts()\n",
        "print(sinif_dagilimi)\n"
      ],
      "metadata": {
        "colab": {
          "base_uri": "https://localhost:8080/"
        },
        "id": "mX98_Y-RiamW",
        "outputId": "50db2bfa-7944-4ad8-ef44-4887efc161c3"
      },
      "execution_count": 11,
      "outputs": [
        {
          "output_type": "stream",
          "name": "stdout",
          "text": [
            "Negatif    756\n",
            "Pozitif     87\n",
            "Name: Teşhis, dtype: int64\n"
          ]
        }
      ]
    },
    {
      "cell_type": "code",
      "source": [
        "veriler.isnull().sum() # Null değer kontrolü ->"
      ],
      "metadata": {
        "colab": {
          "base_uri": "https://localhost:8080/"
        },
        "id": "6EkDjhV_i6b4",
        "outputId": "4820ccae-4cef-49b4-9652-d6ed63f1ee1c"
      },
      "execution_count": 12,
      "outputs": [
        {
          "output_type": "execute_result",
          "data": {
            "text/plain": [
              "ID                0\n",
              "Yaş               0\n",
              "Cinsiyet          0\n",
              "Ağrı              0\n",
              "Yeme Bozukluğu    0\n",
              "Bulantı           0\n",
              "ağrı_2            0\n",
              "ateş              0\n",
              "ateş(1)           0\n",
              "sıçrama           0\n",
              "Lökosit örneği    0\n",
              "kayma             0\n",
              "skor              0\n",
              "Lökositoz         0\n",
              "Nötrofil          0\n",
              "Lenfosit          0\n",
              "N/L               0\n",
              "CRP               0\n",
              "Procalcitonin     0\n",
              "Teşhis            0\n",
              "dtype: int64"
            ]
          },
          "metadata": {},
          "execution_count": 12
        }
      ]
    },
    {
      "cell_type": "code",
      "source": [
        "import seaborn as sns\n",
        "import matplotlib.pyplot as plt\n",
        "\n",
        "# Yalnızca numeric sütunları seçmek için bir DataFrame oluşturun\n",
        "numeric_veriler = veriler.select_dtypes(include=['number'])\n",
        "print(numeric_veriler)\n",
        "\n",
        "# Numeric sütunlar için aykırı değer kontrolü yapmak için bir for döngüsü kullanın\n",
        "for sutun in numeric_veriler.columns:\n",
        "    sns.boxplot(x=sutun, data=numeric_veriler)\n",
        "    plt.xlabel(sutun)\n",
        "    plt.title(f'Outlier Check for {sutun}')\n",
        "    plt.show()\n"
      ],
      "metadata": {
        "colab": {
          "base_uri": "https://localhost:8080/",
          "height": 1000
        },
        "id": "DfrYJQm9m3qs",
        "outputId": "b14e362f-8547-4a47-b998-66918dea88c9"
      },
      "execution_count": 14,
      "outputs": [
        {
          "output_type": "stream",
          "name": "stdout",
          "text": [
            "      ID  Yaş  skor  Lökositoz   Nötrofil  Lenfosit    N/L   CRP   \\\n",
            "0      1    7     6       12.10      76.6      15.0   5.11   4.80   \n",
            "1      2    7     5       16.60      55.6      31.6   1.76   0.01   \n",
            "2      3   13     3        9.60      68.0      16.0   4.25   0.20   \n",
            "3      4    6     3       10.80      39.5      44.4   0.89   0.40   \n",
            "4      5   14     5        4.90      62.3      18.2   3.42   5.70   \n",
            "..   ...  ...   ...         ...       ...       ...    ...    ...   \n",
            "838  846   14     5       14.89      91.1       6.6  13.80   0.37   \n",
            "839  847   10     5       16.44      92.7       3.5  26.49   6.00   \n",
            "840  848    7     5       20.70      88.1       6.3  13.98  21.69   \n",
            "841  849   12     5       13.11      86.1       8.8   9.78  65.66   \n",
            "842  850   15     5       15.71      73.2      20.4   3.59  91.00   \n",
            "\n",
            "     Procalcitonin  \n",
            "0            2.187  \n",
            "1            2.187  \n",
            "2            2.187  \n",
            "3            2.187  \n",
            "4            2.187  \n",
            "..             ...  \n",
            "838          0.050  \n",
            "839          0.080  \n",
            "840          0.230  \n",
            "841          0.870  \n",
            "842          0.140  \n",
            "\n",
            "[843 rows x 9 columns]\n"
          ]
        },
        {
          "output_type": "display_data",
          "data": {
            "text/plain": [
              "<Figure size 640x480 with 1 Axes>"
            ],
            "image/png": "[encoded data removed]"
          },
          "metadata": {}
        },
        {
          "output_type": "display_data",
          "data": {
            "text/plain": [
              "<Figure size 640x480 with 1 Axes>"
            ],
            "image/png": "[encoded data removed]"
          },
          "metadata": {}
        },
        {
          "output_type": "display_data",
          "data": {
            "text/plain": [
              "<Figure size 640x480 with 1 Axes>"
            ],
            "image/png": "[encoded data removed]"
          },
          "metadata": {}
        },
        {
          "output_type": "display_data",
          "data": {
            "text/plain": [
              "<Figure size 640x480 with 1 Axes>"
            ],
            "image/png": "[encoded data removed]"
          },
          "metadata": {}
        },
        {
          "output_type": "display_data",
          "data": {
            "text/plain": [
              "<Figure size 640x480 with 1 Axes>"
            ],
            "image/png": "[encoded data removed]"
          },
          "metadata": {}
        },
        {
          "output_type": "display_data",
          "data": {
            "text/plain": [
              "<Figure size 640x480 with 1 Axes>"
            ],
            "image/png": "[encoded data removed]"
          },
          "metadata": {}
        },
        {
          "output_type": "display_data",
          "data": {
            "text/plain": [
              "<Figure size 640x480 with 1 Axes>"
            ],
            "image/png": "[encoded data removed]"
          },
          "metadata": {}
        },
        {
          "output_type": "display_data",
          "data": {
            "text/plain": [
              "<Figure size 640x480 with 1 Axes>"
            ],
            "image/png": "[encoded data removed]"
          },
          "metadata": {}
        },
        {
          "output_type": "display_data",
          "data": {
            "text/plain": [
              "<Figure size 640x480 with 1 Axes>"
            ],
            "image/png": "[encoded data removed]"
          },
          "metadata": {}
        }
      ]
    },
    {
      "cell_type": "code",
      "source": [
        "# \"Teşhis\" sütununda \"Negatif\" etiketli satırları sayın\n",
        "negatif_sayisi = (veriler['Teşhis'] == 'Negatif').sum()\n",
        "\n",
        "# Elde edilen sayıyı görüntüleyin\n",
        "print(f\"Negatif etiketli satır sayısı: {negatif_sayisi}\")\n"
      ],
      "metadata": {
        "colab": {
          "base_uri": "https://localhost:8080/"
        },
        "id": "3aU6PjYnOhRb",
        "outputId": "d69e4801-0cb3-44d7-9ef5-4313afb8e587"
      },
      "execution_count": 15,
      "outputs": [
        {
          "output_type": "stream",
          "name": "stdout",
          "text": [
            "Negatif etiketli satır sayısı: 756\n"
          ]
        }
      ]
    },
    {
      "cell_type": "code",
      "source": [
        "# \"Teşhis\" sütununda \"Negatif\" etiketli satırları filtreleyin\n",
        "negatif_veriler = veriler[veriler['Teşhis'] == 'Negatif']\n",
        "\n",
        "# Filtrelenmiş verilere ait diğer numeric sütunların ortalamasını alın\n",
        "ortalamalar = negatif_veriler.mean()\n",
        "\n",
        "# Elde edilen ortalamaları görüntüleyin\n",
        "print(ortalamalar)\n"
      ],
      "metadata": {
        "id": "J36mwtaTp-Sr",
        "colab": {
          "base_uri": "https://localhost:8080/"
        },
        "outputId": "98244bf0-630c-40aa-9ad0-9fbd3b6564d2"
      },
      "execution_count": 16,
      "outputs": [
        {
          "output_type": "stream",
          "name": "stdout",
          "text": [
            "ID               413.468254\n",
            "Yaş               10.355820\n",
            "skor               4.285714\n",
            "Lökositoz         13.212606\n",
            "Nötrofil          67.444153\n",
            "Lenfosit          24.476984\n",
            "N/L                4.709086\n",
            "CRP                1.898851\n",
            "Procalcitonin      2.187056\n",
            "dtype: float64\n"
          ]
        },
        {
          "output_type": "stream",
          "name": "stderr",
          "text": [
            "<ipython-input-16-db171bbce4f2>:5: FutureWarning: The default value of numeric_only in DataFrame.mean is deprecated. In a future version, it will default to False. In addition, specifying 'numeric_only=None' is deprecated. Select only valid columns or specify the value of numeric_only to silence this warning.\n",
            "  ortalamalar = negatif_veriler.mean()\n"
          ]
        }
      ]
    },
    {
      "cell_type": "code",
      "source": [
        "# \"Teşhis\" sütununda \"Pozitif\" etiketli satırları sayın\n",
        "pozitif_sayisi = (veriler['Teşhis'] == 'Pozitif').sum()\n",
        "\n",
        "# Elde edilen sayıyı görüntüleyin\n",
        "print(f\"Pozitif etiketli satır sayısı: {pozitif_sayisi}\")\n"
      ],
      "metadata": {
        "colab": {
          "base_uri": "https://localhost:8080/"
        },
        "id": "PhIDY5mCOs7G",
        "outputId": "6fc78afd-eaef-4396-ad0d-4bc76d3405de"
      },
      "execution_count": 18,
      "outputs": [
        {
          "output_type": "stream",
          "name": "stdout",
          "text": [
            "Pozitif etiketli satır sayısı: 87\n"
          ]
        }
      ]
    },
    {
      "cell_type": "code",
      "source": [
        "# \"Teşhis\" sütununda \"Negatif\" etiketli satırları filtreleyin\n",
        "pozitif_veriler = veriler[veriler['Teşhis'] == 'Pozitif']\n",
        "\n",
        "# Filtrelenmiş verilere ait diğer numeric sütunların ortalamasını alın\n",
        "ortalamalar = pozitif_veriler.mean()\n",
        "\n",
        "# Elde edilen ortalamaları görüntüleyin\n",
        "print(ortalamalar)\n"
      ],
      "metadata": {
        "colab": {
          "base_uri": "https://localhost:8080/"
        },
        "id": "pOzUMdk4MqRH",
        "outputId": "83245da2-c3ce-4f23-c3a1-938a80ea0f50"
      },
      "execution_count": 19,
      "outputs": [
        {
          "output_type": "stream",
          "name": "stdout",
          "text": [
            "ID               526.770115\n",
            "Yaş               10.747126\n",
            "skor               4.827586\n",
            "Lökositoz         14.962759\n",
            "Nötrofil          79.395402\n",
            "Lenfosit          13.271034\n",
            "N/L               10.608621\n",
            "CRP                8.754353\n",
            "Procalcitonin      0.787046\n",
            "dtype: float64\n"
          ]
        },
        {
          "output_type": "stream",
          "name": "stderr",
          "text": [
            "<ipython-input-19-ec6c06d25319>:5: FutureWarning: The default value of numeric_only in DataFrame.mean is deprecated. In a future version, it will default to False. In addition, specifying 'numeric_only=None' is deprecated. Select only valid columns or specify the value of numeric_only to silence this warning.\n",
            "  ortalamalar = pozitif_veriler.mean()\n"
          ]
        }
      ]
    },
    {
      "cell_type": "code",
      "source": [
        "import pandas as pd\n",
        "from scipy.stats import zscore\n",
        "\n",
        "# Sayısal sütunları seçme\n",
        "sayisal_sutunlar = veriler.select_dtypes(include=['float', 'int'])\n",
        "\n",
        "# Aykırı değerleri bulma için z-skoru hesaplama\n",
        "z_scores = zscore(sayisal_sutunlar)\n",
        "\n",
        "# Z-skoru eşik değeri belirleme (genellikle 2 veya -2 kullanılır, ancak isteğe bağlıdır)\n",
        "esik_deger = 2\n",
        "\n",
        "# Aykırı değerleri belirleme\n",
        "aykiri_degerler = (abs(z_scores) > esik_deger).any(axis=1)\n",
        "\n",
        "# Aykırı değerleri gösterme\n",
        "print(\"Aykırı Değerler:\")\n",
        "print(veriler[aykiri_degerler])\n"
      ],
      "metadata": {
        "colab": {
          "base_uri": "https://localhost:8080/"
        },
        "id": "0ArR06RcJAB-",
        "outputId": "f8eafdd5-1fbf-4abe-eed3-2fea4d366bcb"
      },
      "execution_count": 25,
      "outputs": [
        {
          "output_type": "stream",
          "name": "stdout",
          "text": [
            "Aykırı Değerler:\n",
            "      ID  Yaş Cinsiyet Ağrı Yeme Bozukluğu Bulantı ağrı_2 ateş ateş(1)  \\\n",
            "9     10   12        K  var            var     var    var  yok    36.8   \n",
            "10    11    7        E  var            var     var    yok  yok    36.2   \n",
            "17    18   16        E  var            yok     yok    var  yok    36.7   \n",
            "86    87    7        E  var            yok     yok    var  yok    36.3   \n",
            "94    95    5        E  var            yok     yok    var  yok      36   \n",
            "..   ...  ...      ...  ...            ...     ...    ...  ...     ...   \n",
            "832  840   14        K  yok            var     yok    yok  yok   36.58   \n",
            "839  847   10        K  yok            var     var    yok  yok   36.58   \n",
            "840  848    7        K  yok            var     var    yok  yok   36.58   \n",
            "841  849   12        E  yok            var     var    yok  yok   36.58   \n",
            "842  850   15        E  var            var     var    yok  yok   36.58   \n",
            "\n",
            "    sıçrama Lökosit örneği kayma  skor  Lökositoz   Nötrofil  Lenfosit    N/L  \\\n",
            "9       yok            var   var     8       14.40     91.80      4.30  21.35   \n",
            "10      var            var   var     8       19.40     88.90      4.40  20.20   \n",
            "17      yok            yok   yok     3        8.30     34.40     53.90   0.64   \n",
            "86      yok            var   var     6       12.40     89.00      4.30  20.70   \n",
            "94      yok            yok   yok     3        4.96      2.65      2.00   1.33   \n",
            "..      ...            ...   ...   ...         ...       ...       ...    ...   \n",
            "832     var            var   var     5       14.50     83.93      8.77   9.57   \n",
            "839     yok            var   var     5       16.44     92.70      3.50  26.49   \n",
            "840     yok            var   var     5       20.70     88.10      6.30  13.98   \n",
            "841     yok            var   var     5       13.11     86.10      8.80   9.78   \n",
            "842     yok            var   yok     5       15.71     73.20     20.40   3.59   \n",
            "\n",
            "        CRP   Procalcitonin   Teşhis  \n",
            "9     7.0000          0.300  Negatif  \n",
            "10   37.4000          0.787  Pozitif  \n",
            "17    0.1400          2.187  Negatif  \n",
            "86    3.6000          2.187  Negatif  \n",
            "94    1.9038          0.110  Negatif  \n",
            "..       ...            ...      ...  \n",
            "832  34.8700          0.787  Pozitif  \n",
            "839   6.0000          0.080  Pozitif  \n",
            "840  21.6900          0.230  Pozitif  \n",
            "841  65.6600          0.870  Pozitif  \n",
            "842  91.0000          0.140  Pozitif  \n",
            "\n",
            "[107 rows x 20 columns]\n"
          ]
        }
      ]
    },
    {
      "cell_type": "code",
      "source": [
        "import pandas as pd\n",
        "\n",
        "\n",
        "# Sayısal sütunları seçme\n",
        "sayisal_sutunlar = veriler.select_dtypes(include=['float', 'int'])\n",
        "\n",
        "# IQR hesaplama\n",
        "Q1 = sayisal_sutunlar.quantile(0.25)\n",
        "Q3 = sayisal_sutunlar.quantile(0.75)\n",
        "IQR = Q3 - Q1\n",
        "\n",
        "# Aykırı değerleri belirleme için alt ve üst sınır hesaplama\n",
        "alt_sinir = Q1 - 1.5 * IQR\n",
        "ust_sinir = Q3 + 1.5 * IQR\n",
        "\n",
        "# Aykırı değerleri belirleme\n",
        "aykiri_degerler = ((sayisal_sutunlar < alt_sinir) | (sayisal_sutunlar > ust_sinir)).any(axis=1)\n",
        "\n",
        "# Aykırı değerleri gösterme\n",
        "print(\"Aykırı Değerler:\")\n",
        "print(veriler[aykiri_degerler])\n",
        "\n"
      ],
      "metadata": {
        "colab": {
          "base_uri": "https://localhost:8080/"
        },
        "id": "IH8aiLZCK4QH",
        "outputId": "a1ab5ef5-97b1-475e-e350-34e3a15db635"
      },
      "execution_count": 26,
      "outputs": [
        {
          "output_type": "stream",
          "name": "stdout",
          "text": [
            "Aykırı Değerler:\n",
            "      ID  Yaş Cinsiyet Ağrı Yeme Bozukluğu Bulantı ağrı_2 ateş ateş(1)  \\\n",
            "0      1    7        E  var            yok     yok    var  yok    36.5   \n",
            "4      5   14        E  var            var     var    var  yok    36.6   \n",
            "6      7    6        E  var            var     var    var  yok    36.4   \n",
            "9     10   12        K  var            var     var    var  yok    36.8   \n",
            "10    11    7        E  var            var     var    yok  yok    36.2   \n",
            "..   ...  ...      ...  ...            ...     ...    ...  ...     ...   \n",
            "836  844   11        E  yok            yok     var    yok  yok   36.58   \n",
            "839  847   10        K  yok            var     var    yok  yok   36.58   \n",
            "840  848    7        K  yok            var     var    yok  yok   36.58   \n",
            "841  849   12        E  yok            var     var    yok  yok   36.58   \n",
            "842  850   15        E  var            var     var    yok  yok   36.58   \n",
            "\n",
            "    sıçrama Lökosit örneği kayma  skor  Lökositoz   Nötrofil  Lenfosit    N/L  \\\n",
            "0       yok            var   var     6       12.10      76.6      15.0   5.11   \n",
            "4       yok            yok   yok     5        4.90      62.3      18.2   3.42   \n",
            "6       yok            var   var     8       20.20      81.4      10.3   7.90   \n",
            "9       yok            var   var     8       14.40      91.8       4.3  21.35   \n",
            "10      var            var   var     8       19.40      88.9       4.4  20.20   \n",
            "..      ...            ...   ...   ...         ...       ...       ...    ...   \n",
            "836     var            var   var     5       18.57      89.8       5.6  16.04   \n",
            "839     yok            var   var     5       16.44      92.7       3.5  26.49   \n",
            "840     yok            var   var     5       20.70      88.1       6.3  13.98   \n",
            "841     yok            var   var     5       13.11      86.1       8.8   9.78   \n",
            "842     yok            var   yok     5       15.71      73.2      20.4   3.59   \n",
            "\n",
            "      CRP   Procalcitonin   Teşhis  \n",
            "0     4.80          2.187  Negatif  \n",
            "4     5.70          2.187  Negatif  \n",
            "6    12.90          0.150  Negatif  \n",
            "9     7.00          0.300  Negatif  \n",
            "10   37.40          0.787  Pozitif  \n",
            "..     ...            ...      ...  \n",
            "836   5.16          2.210  Pozitif  \n",
            "839   6.00          0.080  Pozitif  \n",
            "840  21.69          0.230  Pozitif  \n",
            "841  65.66          0.870  Pozitif  \n",
            "842  91.00          0.140  Pozitif  \n",
            "\n",
            "[165 rows x 20 columns]\n"
          ]
        }
      ]
    },
    {
      "cell_type": "code",
      "source": [
        "# Aykırı değerleri belirleme\n",
        "aykiri_degerler = ((sayisal_sutunlar < alt_sinir) | (sayisal_sutunlar > ust_sinir)).any(axis=1)\n",
        "\n",
        "temizlenmis_veri = veriler[~aykiri_degerler]\n",
        "\n",
        "# Aykırı değerlere sahip olmayan yeni veri setini gösterme\n",
        "print(\"Temizlenmiş Veri Seti:\")\n",
        "print(temizlenmis_veri)"
      ],
      "metadata": {
        "colab": {
          "base_uri": "https://localhost:8080/"
        },
        "id": "cb-7OKPaNCun",
        "outputId": "d6ed186a-83d0-48b3-f66e-aaabcf594c1b"
      },
      "execution_count": 29,
      "outputs": [
        {
          "output_type": "stream",
          "name": "stdout",
          "text": [
            "Temizlenmiş Veri Seti:\n",
            "      ID  Yaş Cinsiyet Ağrı Yeme Bozukluğu Bulantı ağrı_2 ateş ateş(1)  \\\n",
            "1      2    7        E  var            yok     yok    var  yok    36.6   \n",
            "2      3   13        K  var            var     var    yok  yok    36.6   \n",
            "3      4    6        E  var            yok     yok    var  yok    36.7   \n",
            "5      6    7        E  var            yok     yok    var  yok    36.5   \n",
            "7      8    7        E  var            yok     yok    var  yok    36.8   \n",
            "..   ...  ...      ...  ...            ...     ...    ...  ...     ...   \n",
            "831  839   12        E  yok            var     yok    yok  yok   36.58   \n",
            "834  842   14        K  var            yok     yok    yok  yok   36.58   \n",
            "835  843   15        K  yok            var     yok    yok  yok   36.58   \n",
            "837  845   17        K  var            var     var    yok  var      38   \n",
            "838  846   14        K  var            yok     yok    yok  yok   36.58   \n",
            "\n",
            "    sıçrama Lökosit örneği kayma  skor  Lökositoz   Nötrofil  Lenfosit    N/L  \\\n",
            "1       yok            var   yok     5       16.60     55.60     31.60   1.76   \n",
            "2       yok            yok   yok     3        9.60     68.00     16.00   4.25   \n",
            "3       yok            var   yok     3       10.80     39.50     44.40   0.89   \n",
            "5       yok            var   yok     5       16.80     38.70     47.50   0.81   \n",
            "7       yok            var   yok     3       11.30     65.80     21.20   3.10   \n",
            "..      ...            ...   ...   ...         ...       ...       ...    ...   \n",
            "831     yok            var   var     4       15.40     85.85      6.88  12.48   \n",
            "834     yok            var   var     4       16.22     73.90     19.50   3.79   \n",
            "835     yok            yok   yok     1        3.80     40.10     46.30   0.87   \n",
            "837     yok            yok   yok     4       10.42     69.10     24.40   2.83   \n",
            "838     var            var   var     5       14.89     91.10      6.60  13.80   \n",
            "\n",
            "       CRP   Procalcitonin   Teşhis  \n",
            "1    0.0100          2.187  Negatif  \n",
            "2    0.2000          2.187  Negatif  \n",
            "3    0.4000          2.187  Negatif  \n",
            "5    1.9038          0.600  Negatif  \n",
            "7    3.4000          0.080  Negatif  \n",
            "..      ...            ...      ...  \n",
            "831  3.1000          0.787  Pozitif  \n",
            "834  1.6000          0.390  Pozitif  \n",
            "835  1.8000          0.787  Pozitif  \n",
            "837  1.3000          0.030  Pozitif  \n",
            "838  0.3700          0.050  Pozitif  \n",
            "\n",
            "[678 rows x 20 columns]\n"
          ]
        }
      ]
    },
    {
      "cell_type": "code",
      "source": [
        "from sklearn.preprocessing import LabelEncoder\n",
        "\n",
        "# Veri setini okuma\n",
        "dosya_adı = \"Veri_Kümesi.xlsx\"\n",
        "veriler = pd.read_excel(dosya_adı)\n",
        "\n",
        "# Sınıf etiketi belli olmayanları ayırma\n",
        "bilinmeyen_veriler = veriler[veriler['Teşhis'].isnull()]\n",
        "veriler = veriler.dropna(subset=['Teşhis'])\n",
        "\n",
        "# Sadece string olan sütunları Label Encoding ile dönüştürme\n",
        "label_encoder = LabelEncoder()\n",
        "\n",
        "# Belirtilen sütunları dönüştürme\n",
        "string_sutunlar = ['Cinsiyet', 'Ağrı', 'Yeme Bozukluğu', 'Bulantı', 'ağrı_2', 'ateş', 'sıçrama', 'Lökosit örneği', 'kayma', 'Teşhis']\n",
        "for sütun in string_sutunlar:\n",
        "    if veriler[sütun].dtype == 'O':  # 'O', Python'da object (string) tipini temsil eder\n",
        "        veriler[sütun] = label_encoder.fit_transform(veriler[sütun])\n",
        "\n",
        "# Dönüşüm sonrası veriyi görüntüleme\n",
        "print(veriler)\n"
      ],
      "metadata": {
        "colab": {
          "base_uri": "https://localhost:8080/"
        },
        "id": "CNUKkHrwxMHh",
        "outputId": "79d8e35e-191f-4c17-97f7-7bb1bf741ef5"
      },
      "execution_count": 20,
      "outputs": [
        {
          "output_type": "stream",
          "name": "stdout",
          "text": [
            "      ID  Yaş  Cinsiyet  Ağrı  Yeme Bozukluğu  Bulantı  ağrı_2  ateş ateş(1)  \\\n",
            "0      1    7         0     0               1        1       0     1    36.5   \n",
            "1      2    7         0     0               1        1       0     1    36.6   \n",
            "2      3   13         1     0               0        0       1     1    36.6   \n",
            "3      4    6         0     0               1        1       0     1    36.7   \n",
            "4      5   14         0     0               0        0       0     1    36.6   \n",
            "..   ...  ...       ...   ...             ...      ...     ...   ...     ...   \n",
            "838  846   14         1     0               1        1       1     1   36.58   \n",
            "839  847   10         1     1               0        0       1     1   36.58   \n",
            "840  848    7         1     1               0        0       1     1   36.58   \n",
            "841  849   12         0     1               0        0       1     1   36.58   \n",
            "842  850   15         0     0               0        0       1     1   36.58   \n",
            "\n",
            "     sıçrama  Lökosit örneği  kayma  skor  Lökositoz   Nötrofil  Lenfosit  \\\n",
            "0          1               0      0     6       12.10      76.6      15.0   \n",
            "1          1               0      1     5       16.60      55.6      31.6   \n",
            "2          1               1      1     3        9.60      68.0      16.0   \n",
            "3          1               0      1     3       10.80      39.5      44.4   \n",
            "4          1               1      1     5        4.90      62.3      18.2   \n",
            "..       ...             ...    ...   ...         ...       ...       ...   \n",
            "838        0               0      0     5       14.89      91.1       6.6   \n",
            "839        1               0      0     5       16.44      92.7       3.5   \n",
            "840        1               0      0     5       20.70      88.1       6.3   \n",
            "841        1               0      0     5       13.11      86.1       8.8   \n",
            "842        1               0      1     5       15.71      73.2      20.4   \n",
            "\n",
            "       N/L   CRP   Procalcitonin  Teşhis  \n",
            "0     5.11   4.80          2.187       0  \n",
            "1     1.76   0.01          2.187       0  \n",
            "2     4.25   0.20          2.187       0  \n",
            "3     0.89   0.40          2.187       0  \n",
            "4     3.42   5.70          2.187       0  \n",
            "..     ...    ...            ...     ...  \n",
            "838  13.80   0.37          0.050       1  \n",
            "839  26.49   6.00          0.080       1  \n",
            "840  13.98  21.69          0.230       1  \n",
            "841   9.78  65.66          0.870       1  \n",
            "842   3.59  91.00          0.140       1  \n",
            "\n",
            "[843 rows x 20 columns]\n"
          ]
        }
      ]
    }
  ]
}